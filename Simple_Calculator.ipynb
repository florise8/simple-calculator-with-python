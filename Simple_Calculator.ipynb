{
  "nbformat": 4,
  "nbformat_minor": 0,
  "metadata": {
    "colab": {
      "provenance": [],
      "authorship_tag": "ABX9TyO6tycPV/yI3XYmwBfxLg67",
      "include_colab_link": true
    },
    "kernelspec": {
      "name": "python3",
      "display_name": "Python 3"
    },
    "language_info": {
      "name": "python"
    }
  },
  "cells": [
    {
      "cell_type": "markdown",
      "metadata": {
        "id": "view-in-github",
        "colab_type": "text"
      },
      "source": [
        "<a href=\"https://colab.research.google.com/github/florise8/simple-calculator-with-python/blob/main/Simple_Calculator.ipynb\" target=\"_parent\"><img src=\"https://colab.research.google.com/assets/colab-badge.svg\" alt=\"Open In Colab\"/></a>"
      ]
    },
    {
      "cell_type": "code",
      "source": [
        "# Simple Calulator -- 1\n",
        "\n",
        "first_Number = int(input('Enter first Number:'))\n",
        "Second_Number = int(input('Enter Second Number: '))\n",
        "Operator = input('Enter Operator: ')\n",
        "\n",
        "if Operator == '+':\n",
        "  result = first_Number + Second_Number\n",
        "  print(f' the results is {result}')\n",
        "\n",
        "elif Operator == '-':\n",
        "  result = first_Number - Second_Number\n",
        "  print(f' the results is {result}')\n",
        "\n",
        "elif Operator == '*':\n",
        "  result = first_Number * Second_Number\n",
        "  print(f' the results is {result}')\n",
        "\n",
        "elif Operator == '/':\n",
        "  result = first_Number / Second_Number\n",
        "  print(f' the results is {result}')"
      ],
      "metadata": {
        "id": "a7O5I3lxfACp"
      },
      "execution_count": null,
      "outputs": []
    },
    {
      "cell_type": "code",
      "execution_count": null,
      "metadata": {
        "colab": {
          "base_uri": "https://localhost:8080/"
        },
        "id": "RB7MPOfQsszW",
        "outputId": "52a2d14c-5bfa-45cf-9b87-808adabb5e40"
      },
      "outputs": [
        {
          "output_type": "stream",
          "name": "stdout",
          "text": [
            "SELECT OPERATION:\n",
            "1. Addition\n",
            "2. Subtraction\n",
            "3. Multiplication\n",
            "4. Divition\n",
            "5. Modulus\n",
            "6. Exponent\n",
            "7. Floor Division\n",
            "What would you like to do? (1/2/3/4/5/6/7): 1\n",
            "Enter first value: 600\n",
            "Enter second value: 912\n",
            "Result: 1512.0\n"
          ]
        }
      ],
      "source": [
        "# SIMPLE CALCULATOR -- 2\n",
        "\n",
        "def add(x, y):\n",
        "    return x + y\n",
        "\n",
        "def subtract(x, y):\n",
        "    return x - y\n",
        "\n",
        "def multiply(x, y):\n",
        "    return x * y\n",
        "\n",
        "def divide(x, y):\n",
        "    return x / y\n",
        "\n",
        "def modulus(x, y):\n",
        "        return x % y\n",
        "\n",
        "def exponent(x, y):\n",
        "        return x ** y\n",
        "\n",
        "def floor_division(x, y):\n",
        "        return x // y\n",
        "\n",
        "print('SELECT OPERATION:')\n",
        "print('1. Addition')\n",
        "print('2. Subtraction')\n",
        "print('3. Multiplication')\n",
        "print('4. Divition')\n",
        "print('5. Modulus')\n",
        "print('6. Exponent')\n",
        "print('7. Floor Division')\n",
        "\n",
        "choice = input('What would you like to do? (1/2/3/4/5/6/7): ')\n",
        "\n",
        "# Get numbers from the user\n",
        "num1 = float(input('Enter first value: '))\n",
        "num2 = float(input('Enter second value: '))\n",
        "\n",
        "if choice == '1':\n",
        "    print('Result:', add(num1, num2))\n",
        "elif choice == '2':\n",
        "    print('Result:', subtract(num1, num2))\n",
        "elif choice == '3':\n",
        "    print('Result:', multiply(num1, num2))\n",
        "elif choice == '4':\n",
        "    print('Result:', divide(num1, num2))\n",
        "elif choice == '5':\n",
        "    print('Result:', modulus(num1, num2))\n",
        "elif choice == '6':\n",
        "    print('Result:', exponent(num1, num2))\n",
        "elif choice == '7':\n",
        "    print('Result:', floor_division(num1, num2))\n",
        "else:\n",
        "    print('Invalid input')\n"
      ]
    }
  ]
}